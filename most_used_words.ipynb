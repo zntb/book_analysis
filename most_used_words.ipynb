{
 "cells": [
  {
   "cell_type": "markdown",
   "id": "904d8ec8-dabf-4dd4-ba27-d217bf35572e",
   "metadata": {},
   "source": [
    "# Loading the book"
   ]
  },
  {
   "cell_type": "code",
   "execution_count": 1,
   "id": "3e7d171b-2827-40fb-a88a-cb071646608e",
   "metadata": {},
   "outputs": [],
   "source": [
    "with open(\"miracle_in_the_andes.txt\", 'r') as file:\n",
    "    book = file.read()"
   ]
  },
  {
   "cell_type": "markdown",
   "id": "491bf1be-301a-47c6-bd55-29cb2a289b59",
   "metadata": {},
   "source": [
    "# The most used words(non-articles)"
   ]
  },
  {
   "cell_type": "code",
   "execution_count": 2,
   "id": "1cfc42f6-a86c-490f-92b7-b1aafbe17529",
   "metadata": {},
   "outputs": [
    {
     "data": {
      "text/plain": [
       "['chapter', 'before', 'it', 'was', 'friday']"
      ]
     },
     "execution_count": 2,
     "metadata": {},
     "output_type": "execute_result"
    }
   ],
   "source": [
    "import re\n",
    "pattern = re.compile(\"[a-zA-Z]+\")\n",
    "findings = re.findall(pattern, book.lower())\n",
    "findings[:5]"
   ]
  },
  {
   "cell_type": "code",
   "execution_count": 3,
   "id": "ac6b5feb-1f4f-4893-b9ed-25343be7b850",
   "metadata": {},
   "outputs": [],
   "source": [
    "d = {}\n",
    "for word in findings:\n",
    "    if word in d.keys():\n",
    "        d[word] = d[word] + 1\n",
    "    else:\n",
    "        d[word] = 1"
   ]
  },
  {
   "cell_type": "code",
   "execution_count": 17,
   "id": "76ab2602-a72a-418f-9549-9d24c68969b0",
   "metadata": {},
   "outputs": [
    {
     "data": {
      "text/plain": [
       "[('the', 5346), ('and', 2795), ('i', 2729), ('to', 2400), ('of', 2060)]"
      ]
     },
     "execution_count": 17,
     "metadata": {},
     "output_type": "execute_result"
    }
   ],
   "source": [
    "d_list = [(word, count) for (word, count) in d.items()]\n",
    "d_list = sorted(d_list, key=lambda x: x[1], reverse=True)  # Sort by count\n",
    "d_list[:5]"
   ]
  },
  {
   "cell_type": "markdown",
   "id": "7f89446c-0112-47e7-8064-4f201a6beaa8",
   "metadata": {},
   "source": [
    "### Install nltk(pip install nltk)"
   ]
  },
  {
   "cell_type": "code",
   "execution_count": 14,
   "id": "ec799c0e-5d70-48fa-8d55-b315351090ca",
   "metadata": {},
   "outputs": [],
   "source": [
    "import nltk\n",
    "\n",
    "from nltk.corpus import stopwords\n",
    "english_stopwords = stopwords.words(\"english\")"
   ]
  },
  {
   "cell_type": "code",
   "execution_count": 15,
   "id": "06bcffd8-5380-4693-a197-5f19508ff005",
   "metadata": {},
   "outputs": [],
   "source": [
    "filtered_words = []\n",
    "\n",
    "for word, count in d_list:  # Note the order is now (word, count)\n",
    "    if word not in english_stopwords:\n",
    "        filtered_words.append((word, count))"
   ]
  },
  {
   "cell_type": "code",
   "execution_count": 18,
   "id": "bca9ea32-d4dd-4174-a4a6-5a4bbaa1e1f0",
   "metadata": {},
   "outputs": [
    {
     "data": {
      "text/plain": [
       "[('would', 575),\n",
       " ('us', 519),\n",
       " ('said', 292),\n",
       " ('roberto', 284),\n",
       " ('could', 252),\n",
       " ('one', 249),\n",
       " ('snow', 227),\n",
       " ('mountain', 183),\n",
       " ('time', 182),\n",
       " ('like', 165)]"
      ]
     },
     "execution_count": 18,
     "metadata": {},
     "output_type": "execute_result"
    }
   ],
   "source": [
    "filtered_words[:10]"
   ]
  },
  {
   "cell_type": "code",
   "execution_count": null,
   "id": "b03aaab2-f2cb-4d3c-832e-07e9742c6642",
   "metadata": {},
   "outputs": [],
   "source": []
  }
 ],
 "metadata": {
  "kernelspec": {
   "display_name": "Python 3 (ipykernel)",
   "language": "python",
   "name": "python3"
  },
  "language_info": {
   "codemirror_mode": {
    "name": "ipython",
    "version": 3
   },
   "file_extension": ".py",
   "mimetype": "text/x-python",
   "name": "python",
   "nbconvert_exporter": "python",
   "pygments_lexer": "ipython3",
   "version": "3.12.3"
  }
 },
 "nbformat": 4,
 "nbformat_minor": 5
}
